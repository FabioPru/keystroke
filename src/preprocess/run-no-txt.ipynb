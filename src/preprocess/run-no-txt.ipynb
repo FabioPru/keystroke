{
 "cells": [
  {
   "cell_type": "code",
   "execution_count": 1,
   "metadata": {
    "ExecuteTime": {
     "end_time": "2021-01-12T15:25:49.104261Z",
     "start_time": "2021-01-12T15:25:49.101861Z"
    }
   },
   "outputs": [],
   "source": [
    "outlocation=\"../../src/preprocess/\"\n"
   ]
  },
  {
   "cell_type": "code",
   "execution_count": 3,
   "metadata": {
    "ExecuteTime": {
     "end_time": "2021-01-12T15:29:46.946088Z",
     "start_time": "2021-01-12T15:29:46.931447Z"
    }
   },
   "outputs": [],
   "source": [
    "%%bash\n",
    "echo \"0\" > accumulator.out\n",
    "\n",
    "cat ../../pads/empty_csv/sentences.csv > ./sentences.csv\n",
    "cat ../../pads/empty_csv/keystrokes.csv > ./keystrokes.csv"
   ]
  },
  {
   "cell_type": "code",
   "execution_count": 8,
   "metadata": {
    "ExecuteTime": {
     "end_time": "2021-01-12T15:30:42.083405Z",
     "start_time": "2021-01-12T15:30:42.080932Z"
    }
   },
   "outputs": [],
   "source": [
    "sem = \"../preprocess/data/1.json\""
   ]
  },
  {
   "cell_type": "code",
   "execution_count": 5,
   "metadata": {
    "ExecuteTime": {
     "end_time": "2021-01-12T15:29:57.881671Z",
     "start_time": "2021-01-12T15:29:57.813262Z"
    }
   },
   "outputs": [
    {
     "name": "stdout",
     "output_type": "stream",
     "text": [
      "Creating df.json, ops.json and l\n"
     ]
    }
   ],
   "source": [
    "%%bash\n",
    "cd ../sh\n",
    "\n",
    "echo \"Creating df.json, ops.json and l\"\n",
    "node ./../js/changelog_parser.js \"../preprocess/data/1.json\""
   ]
  },
  {
   "cell_type": "code",
   "execution_count": 35,
   "metadata": {
    "ExecuteTime": {
     "end_time": "2021-01-12T15:47:38.328832Z",
     "start_time": "2021-01-12T15:47:38.325497Z"
    }
   },
   "outputs": [
    {
     "data": {
      "text/plain": [
       "'../preprocess/data/1'"
      ]
     },
     "execution_count": 35,
     "metadata": {},
     "output_type": "execute_result"
    }
   ],
   "source": [
    "path"
   ]
  },
  {
   "cell_type": "code",
   "execution_count": 36,
   "metadata": {
    "ExecuteTime": {
     "end_time": "2021-01-12T15:48:16.749589Z",
     "start_time": "2021-01-12T15:48:16.741669Z"
    }
   },
   "outputs": [],
   "source": [
    "k = pd.read_csv(path+'keystroke.csv', index_col=False, encoding='latin1')\n"
   ]
  },
  {
   "cell_type": "code",
   "execution_count": 58,
   "metadata": {
    "ExecuteTime": {
     "end_time": "2021-01-12T15:54:03.319222Z",
     "start_time": "2021-01-12T15:54:03.316151Z"
    }
   },
   "outputs": [],
   "source": [
    "s = [' ' for _ in range(k['pos'].max() + 2)]"
   ]
  },
  {
   "cell_type": "code",
   "execution_count": 71,
   "metadata": {
    "ExecuteTime": {
     "end_time": "2021-01-12T15:59:03.869765Z",
     "start_time": "2021-01-12T15:59:03.856865Z"
    }
   },
   "outputs": [
    {
     "data": {
      "text/html": [
       "<div>\n",
       "<style scoped>\n",
       "    .dataframe tbody tr th:only-of-type {\n",
       "        vertical-align: middle;\n",
       "    }\n",
       "\n",
       "    .dataframe tbody tr th {\n",
       "        vertical-align: top;\n",
       "    }\n",
       "\n",
       "    .dataframe thead th {\n",
       "        text-align: right;\n",
       "    }\n",
       "</style>\n",
       "<table border=\"1\" class=\"dataframe\">\n",
       "  <thead>\n",
       "    <tr style=\"text-align: right;\">\n",
       "      <th></th>\n",
       "      <th>t</th>\n",
       "      <th>end_t</th>\n",
       "      <th>char</th>\n",
       "      <th>pos</th>\n",
       "      <th>op</th>\n",
       "      <th>path</th>\n",
       "    </tr>\n",
       "  </thead>\n",
       "  <tbody>\n",
       "    <tr>\n",
       "      <td>80</td>\n",
       "      <td>556</td>\n",
       "      <td>1477914997043</td>\n",
       "      <td>NaN</td>\n",
       "      <td>52</td>\n",
       "      <td>-</td>\n",
       "      <td>../preprocess/data/1</td>\n",
       "    </tr>\n",
       "    <tr>\n",
       "      <td>81</td>\n",
       "      <td>171</td>\n",
       "      <td>1477914997214</td>\n",
       "      <td>NaN</td>\n",
       "      <td>52</td>\n",
       "      <td>-</td>\n",
       "      <td>../preprocess/data/1</td>\n",
       "    </tr>\n",
       "    <tr>\n",
       "      <td>82</td>\n",
       "      <td>171</td>\n",
       "      <td>1477914997385</td>\n",
       "      <td>s</td>\n",
       "      <td>52</td>\n",
       "      <td>+</td>\n",
       "      <td>../preprocess/data/1</td>\n",
       "    </tr>\n",
       "    <tr>\n",
       "      <td>83</td>\n",
       "      <td>171</td>\n",
       "      <td>1477914997556</td>\n",
       "      <td>h</td>\n",
       "      <td>53</td>\n",
       "      <td>+</td>\n",
       "      <td>../preprocess/data/1</td>\n",
       "    </tr>\n",
       "    <tr>\n",
       "      <td>84</td>\n",
       "      <td>746</td>\n",
       "      <td>1477914998302</td>\n",
       "      <td>o</td>\n",
       "      <td>54</td>\n",
       "      <td>+</td>\n",
       "      <td>../preprocess/data/1</td>\n",
       "    </tr>\n",
       "    <tr>\n",
       "      <td>85</td>\n",
       "      <td>167</td>\n",
       "      <td>1477914998469</td>\n",
       "      <td>r</td>\n",
       "      <td>55</td>\n",
       "      <td>+</td>\n",
       "      <td>../preprocess/data/1</td>\n",
       "    </tr>\n",
       "    <tr>\n",
       "      <td>86</td>\n",
       "      <td>168</td>\n",
       "      <td>1477914998637</td>\n",
       "      <td>t</td>\n",
       "      <td>56</td>\n",
       "      <td>+</td>\n",
       "      <td>../preprocess/data/1</td>\n",
       "    </tr>\n",
       "    <tr>\n",
       "      <td>87</td>\n",
       "      <td>168</td>\n",
       "      <td>1477914998805</td>\n",
       "      <td></td>\n",
       "      <td>57</td>\n",
       "      <td>+</td>\n",
       "      <td>../preprocess/data/1</td>\n",
       "    </tr>\n",
       "    <tr>\n",
       "      <td>88</td>\n",
       "      <td>1419</td>\n",
       "      <td>1477915000224</td>\n",
       "      <td>h</td>\n",
       "      <td>58</td>\n",
       "      <td>+</td>\n",
       "      <td>../preprocess/data/1</td>\n",
       "    </tr>\n",
       "    <tr>\n",
       "      <td>89</td>\n",
       "      <td>255</td>\n",
       "      <td>1477915000479</td>\n",
       "      <td>i</td>\n",
       "      <td>59</td>\n",
       "      <td>+</td>\n",
       "      <td>../preprocess/data/1</td>\n",
       "    </tr>\n",
       "    <tr>\n",
       "      <td>90</td>\n",
       "      <td>255</td>\n",
       "      <td>1477915000734</td>\n",
       "      <td>s</td>\n",
       "      <td>60</td>\n",
       "      <td>+</td>\n",
       "      <td>../preprocess/data/1</td>\n",
       "    </tr>\n",
       "    <tr>\n",
       "      <td>91</td>\n",
       "      <td>124</td>\n",
       "      <td>1477915000858</td>\n",
       "      <td>t</td>\n",
       "      <td>61</td>\n",
       "      <td>+</td>\n",
       "      <td>../preprocess/data/1</td>\n",
       "    </tr>\n",
       "    <tr>\n",
       "      <td>92</td>\n",
       "      <td>125</td>\n",
       "      <td>1477915000983</td>\n",
       "      <td>o</td>\n",
       "      <td>62</td>\n",
       "      <td>+</td>\n",
       "      <td>../preprocess/data/1</td>\n",
       "    </tr>\n",
       "    <tr>\n",
       "      <td>93</td>\n",
       "      <td>124</td>\n",
       "      <td>1477915001107</td>\n",
       "      <td>r</td>\n",
       "      <td>63</td>\n",
       "      <td>+</td>\n",
       "      <td>../preprocess/data/1</td>\n",
       "    </tr>\n",
       "    <tr>\n",
       "      <td>94</td>\n",
       "      <td>125</td>\n",
       "      <td>1477915001232</td>\n",
       "      <td>i</td>\n",
       "      <td>64</td>\n",
       "      <td>+</td>\n",
       "      <td>../preprocess/data/1</td>\n",
       "    </tr>\n",
       "    <tr>\n",
       "      <td>95</td>\n",
       "      <td>612</td>\n",
       "      <td>1477915001844</td>\n",
       "      <td>s</td>\n",
       "      <td>65</td>\n",
       "      <td>+</td>\n",
       "      <td>../preprocess/data/1</td>\n",
       "    </tr>\n",
       "    <tr>\n",
       "      <td>96</td>\n",
       "      <td>253</td>\n",
       "      <td>1477915002097</td>\n",
       "      <td>NaN</td>\n",
       "      <td>65</td>\n",
       "      <td>-</td>\n",
       "      <td>../preprocess/data/1</td>\n",
       "    </tr>\n",
       "    <tr>\n",
       "      <td>97</td>\n",
       "      <td>253</td>\n",
       "      <td>1477915002350</td>\n",
       "      <td>c</td>\n",
       "      <td>65</td>\n",
       "      <td>+</td>\n",
       "      <td>../preprocess/data/1</td>\n",
       "    </tr>\n",
       "    <tr>\n",
       "      <td>98</td>\n",
       "      <td>750</td>\n",
       "      <td>1477915003100</td>\n",
       "      <td>a</td>\n",
       "      <td>66</td>\n",
       "      <td>+</td>\n",
       "      <td>../preprocess/data/1</td>\n",
       "    </tr>\n",
       "    <tr>\n",
       "      <td>99</td>\n",
       "      <td>257</td>\n",
       "      <td>1477915003357</td>\n",
       "      <td>l</td>\n",
       "      <td>67</td>\n",
       "      <td>+</td>\n",
       "      <td>../preprocess/data/1</td>\n",
       "    </tr>\n",
       "    <tr>\n",
       "      <td>100</td>\n",
       "      <td>257</td>\n",
       "      <td>1477915003614</td>\n",
       "      <td></td>\n",
       "      <td>68</td>\n",
       "      <td>+</td>\n",
       "      <td>../preprocess/data/1</td>\n",
       "    </tr>\n",
       "    <tr>\n",
       "      <td>101</td>\n",
       "      <td>503</td>\n",
       "      <td>1477915004117</td>\n",
       "      <td>b</td>\n",
       "      <td>69</td>\n",
       "      <td>+</td>\n",
       "      <td>../preprocess/data/1</td>\n",
       "    </tr>\n",
       "    <tr>\n",
       "      <td>102</td>\n",
       "      <td>170</td>\n",
       "      <td>1477915004287</td>\n",
       "      <td>a</td>\n",
       "      <td>70</td>\n",
       "      <td>+</td>\n",
       "      <td>../preprocess/data/1</td>\n",
       "    </tr>\n",
       "    <tr>\n",
       "      <td>103</td>\n",
       "      <td>171</td>\n",
       "      <td>1477915004458</td>\n",
       "      <td>c</td>\n",
       "      <td>71</td>\n",
       "      <td>+</td>\n",
       "      <td>../preprocess/data/1</td>\n",
       "    </tr>\n",
       "    <tr>\n",
       "      <td>104</td>\n",
       "      <td>171</td>\n",
       "      <td>1477915004629</td>\n",
       "      <td>k</td>\n",
       "      <td>72</td>\n",
       "      <td>+</td>\n",
       "      <td>../preprocess/data/1</td>\n",
       "    </tr>\n",
       "    <tr>\n",
       "      <td>105</td>\n",
       "      <td>250</td>\n",
       "      <td>1477915004879</td>\n",
       "      <td>g</td>\n",
       "      <td>73</td>\n",
       "      <td>+</td>\n",
       "      <td>../preprocess/data/1</td>\n",
       "    </tr>\n",
       "    <tr>\n",
       "      <td>106</td>\n",
       "      <td>250</td>\n",
       "      <td>1477915005129</td>\n",
       "      <td>r</td>\n",
       "      <td>74</td>\n",
       "      <td>+</td>\n",
       "      <td>../preprocess/data/1</td>\n",
       "    </tr>\n",
       "    <tr>\n",
       "      <td>107</td>\n",
       "      <td>523</td>\n",
       "      <td>1477915005652</td>\n",
       "      <td>i</td>\n",
       "      <td>75</td>\n",
       "      <td>+</td>\n",
       "      <td>../preprocess/data/1</td>\n",
       "    </tr>\n",
       "    <tr>\n",
       "      <td>108</td>\n",
       "      <td>493</td>\n",
       "      <td>1477915006145</td>\n",
       "      <td>NaN</td>\n",
       "      <td>75</td>\n",
       "      <td>-</td>\n",
       "      <td>../preprocess/data/1</td>\n",
       "    </tr>\n",
       "    <tr>\n",
       "      <td>109</td>\n",
       "      <td>250</td>\n",
       "      <td>1477915006395</td>\n",
       "      <td>o</td>\n",
       "      <td>75</td>\n",
       "      <td>+</td>\n",
       "      <td>../preprocess/data/1</td>\n",
       "    </tr>\n",
       "    <tr>\n",
       "      <td>110</td>\n",
       "      <td>250</td>\n",
       "      <td>1477915006645</td>\n",
       "      <td>u</td>\n",
       "      <td>76</td>\n",
       "      <td>+</td>\n",
       "      <td>../preprocess/data/1</td>\n",
       "    </tr>\n",
       "    <tr>\n",
       "      <td>111</td>\n",
       "      <td>250</td>\n",
       "      <td>1477915006895</td>\n",
       "      <td>n</td>\n",
       "      <td>77</td>\n",
       "      <td>+</td>\n",
       "      <td>../preprocess/data/1</td>\n",
       "    </tr>\n",
       "    <tr>\n",
       "      <td>112</td>\n",
       "      <td>250</td>\n",
       "      <td>1477915007145</td>\n",
       "      <td>d</td>\n",
       "      <td>78</td>\n",
       "      <td>+</td>\n",
       "      <td>../preprocess/data/1</td>\n",
       "    </tr>\n",
       "    <tr>\n",
       "      <td>113</td>\n",
       "      <td>251</td>\n",
       "      <td>1477915007396</td>\n",
       "      <td></td>\n",
       "      <td>79</td>\n",
       "      <td>+</td>\n",
       "      <td>../preprocess/data/1</td>\n",
       "    </tr>\n",
       "    <tr>\n",
       "      <td>114</td>\n",
       "      <td>251</td>\n",
       "      <td>1477915007647</td>\n",
       "      <td>o</td>\n",
       "      <td>80</td>\n",
       "      <td>+</td>\n",
       "      <td>../preprocess/data/1</td>\n",
       "    </tr>\n",
       "    <tr>\n",
       "      <td>115</td>\n",
       "      <td>256</td>\n",
       "      <td>1477915007903</td>\n",
       "      <td>f</td>\n",
       "      <td>81</td>\n",
       "      <td>+</td>\n",
       "      <td>../preprocess/data/1</td>\n",
       "    </tr>\n",
       "    <tr>\n",
       "      <td>116</td>\n",
       "      <td>256</td>\n",
       "      <td>1477915008159</td>\n",
       "      <td></td>\n",
       "      <td>82</td>\n",
       "      <td>+</td>\n",
       "      <td>../preprocess/data/1</td>\n",
       "    </tr>\n",
       "    <tr>\n",
       "      <td>117</td>\n",
       "      <td>686</td>\n",
       "      <td>1477915008845</td>\n",
       "      <td>C</td>\n",
       "      <td>83</td>\n",
       "      <td>+</td>\n",
       "      <td>../preprocess/data/1</td>\n",
       "    </tr>\n",
       "    <tr>\n",
       "      <td>118</td>\n",
       "      <td>822</td>\n",
       "      <td>1477915009667</td>\n",
       "      <td>L</td>\n",
       "      <td>84</td>\n",
       "      <td>+</td>\n",
       "      <td>../preprocess/data/1</td>\n",
       "    </tr>\n",
       "    <tr>\n",
       "      <td>119</td>\n",
       "      <td>507</td>\n",
       "      <td>1477915010174</td>\n",
       "      <td></td>\n",
       "      <td>85</td>\n",
       "      <td>+</td>\n",
       "      <td>../preprocess/data/1</td>\n",
       "    </tr>\n",
       "  </tbody>\n",
       "</table>\n",
       "</div>"
      ],
      "text/plain": [
       "        t          end_t char  pos op                  path\n",
       "80    556  1477914997043  NaN   52  -  ../preprocess/data/1\n",
       "81    171  1477914997214  NaN   52  -  ../preprocess/data/1\n",
       "82    171  1477914997385    s   52  +  ../preprocess/data/1\n",
       "83    171  1477914997556    h   53  +  ../preprocess/data/1\n",
       "84    746  1477914998302    o   54  +  ../preprocess/data/1\n",
       "85    167  1477914998469    r   55  +  ../preprocess/data/1\n",
       "86    168  1477914998637    t   56  +  ../preprocess/data/1\n",
       "87    168  1477914998805        57  +  ../preprocess/data/1\n",
       "88   1419  1477915000224    h   58  +  ../preprocess/data/1\n",
       "89    255  1477915000479    i   59  +  ../preprocess/data/1\n",
       "90    255  1477915000734    s   60  +  ../preprocess/data/1\n",
       "91    124  1477915000858    t   61  +  ../preprocess/data/1\n",
       "92    125  1477915000983    o   62  +  ../preprocess/data/1\n",
       "93    124  1477915001107    r   63  +  ../preprocess/data/1\n",
       "94    125  1477915001232    i   64  +  ../preprocess/data/1\n",
       "95    612  1477915001844    s   65  +  ../preprocess/data/1\n",
       "96    253  1477915002097  NaN   65  -  ../preprocess/data/1\n",
       "97    253  1477915002350    c   65  +  ../preprocess/data/1\n",
       "98    750  1477915003100    a   66  +  ../preprocess/data/1\n",
       "99    257  1477915003357    l   67  +  ../preprocess/data/1\n",
       "100   257  1477915003614        68  +  ../preprocess/data/1\n",
       "101   503  1477915004117    b   69  +  ../preprocess/data/1\n",
       "102   170  1477915004287    a   70  +  ../preprocess/data/1\n",
       "103   171  1477915004458    c   71  +  ../preprocess/data/1\n",
       "104   171  1477915004629    k   72  +  ../preprocess/data/1\n",
       "105   250  1477915004879    g   73  +  ../preprocess/data/1\n",
       "106   250  1477915005129    r   74  +  ../preprocess/data/1\n",
       "107   523  1477915005652    i   75  +  ../preprocess/data/1\n",
       "108   493  1477915006145  NaN   75  -  ../preprocess/data/1\n",
       "109   250  1477915006395    o   75  +  ../preprocess/data/1\n",
       "110   250  1477915006645    u   76  +  ../preprocess/data/1\n",
       "111   250  1477915006895    n   77  +  ../preprocess/data/1\n",
       "112   250  1477915007145    d   78  +  ../preprocess/data/1\n",
       "113   251  1477915007396        79  +  ../preprocess/data/1\n",
       "114   251  1477915007647    o   80  +  ../preprocess/data/1\n",
       "115   256  1477915007903    f   81  +  ../preprocess/data/1\n",
       "116   256  1477915008159        82  +  ../preprocess/data/1\n",
       "117   686  1477915008845    C   83  +  ../preprocess/data/1\n",
       "118   822  1477915009667    L   84  +  ../preprocess/data/1\n",
       "119   507  1477915010174        85  +  ../preprocess/data/1"
      ]
     },
     "execution_count": 71,
     "metadata": {},
     "output_type": "execute_result"
    }
   ],
   "source": [
    "k.iloc[80:120, :]"
   ]
  },
  {
   "cell_type": "code",
   "execution_count": 61,
   "metadata": {
    "ExecuteTime": {
     "end_time": "2021-01-12T15:54:29.013866Z",
     "start_time": "2021-01-12T15:54:28.696085Z"
    }
   },
   "outputs": [],
   "source": [
    "for idx, row in k.iterrows():\n",
    "    try:\n",
    "        if row['op'] == '+':\n",
    "            s[row[3]] = row[2]\n",
    "    except:\n",
    "        pass"
   ]
  },
  {
   "cell_type": "code",
   "execution_count": 77,
   "metadata": {
    "ExecuteTime": {
     "end_time": "2021-01-12T16:02:18.272348Z",
     "start_time": "2021-01-12T16:02:18.268500Z"
    }
   },
   "outputs": [
    {
     "data": {
      "text/plain": [
       "['o',\n",
       " 'f',\n",
       " ' ',\n",
       " 'C',\n",
       " 'L',\n",
       " ' ',\n",
       " 'r',\n",
       " 'e',\n",
       " 's',\n",
       " 'e',\n",
       " 'a',\n",
       " 'c',\n",
       " 'h',\n",
       " ':',\n",
       " ' ',\n",
       " '\\\\n',\n",
       " ' ',\n",
       " ' ',\n",
       " ' ',\n",
       " ' ',\n",
       " ' ',\n",
       " 'C',\n",
       " 'o',\n",
       " 'n',\n",
       " 't',\n",
       " 'r',\n",
       " 'a',\n",
       " 's',\n",
       " 't',\n",
       " 'i',\n",
       " 'v',\n",
       " 'e',\n",
       " ' ',\n",
       " 'L',\n",
       " 'i',\n",
       " 'n',\n",
       " 'g',\n",
       " 'u',\n",
       " 'i',\n",
       " 's']"
      ]
     },
     "execution_count": 77,
     "metadata": {},
     "output_type": "execute_result"
    }
   ],
   "source": [
    "s[80:120]"
   ]
  },
  {
   "cell_type": "code",
   "execution_count": 65,
   "metadata": {
    "ExecuteTime": {
     "end_time": "2021-01-12T15:55:02.209130Z",
     "start_time": "2021-01-12T15:55:02.206012Z"
    }
   },
   "outputs": [
    {
     "name": "stdout",
     "output_type": "stream",
     "text": [
      "1. D finition of Contrastive Linguistics (CL) and a short historical background of CL reseach: \\n     Contrastive Linguistic is a systematic comparison of two languages, including the aim to identify and describe their similarities and differences. It's originated in the 1940's and 1960's with an educational approach  The approach is about the difficulty of second language learning. It's about the transfer and tendancy of L2-learners to reuse structures of their L1. The focus has been the negative transfer of the structure. Later, in empirical studies, a difference between the problems which has been forcasted and the ones that act aly occured. In the 1980's the branch of comparative linguisics became theoreticaly. A  ew framework was adopted to classify these contrasts and similarities which have been observed under investigation. \\n2. Sketch the major morphological differences between English and German. Focus on at least two differences:\\n         English: \\n             - Articles and adjectives aren't marked for case\\n             - Nouns can only occur in two different forms - marked for cases or marked for possessives\\n             - Pronouns can have an additional object form\\n         German: \\n             - concord\\n             - government\\n          The  ontrast between the two languages is that german has retained numerous inflectional endings to mark mood, number and person. English however has a higher degree of analyticity. \\n3. Sketch the major word order differences between English and German and discuss constraints and options these differences give rise to.\\nWhere English is characterised by its fixed word order without inflections  German is relatively free in its word order. English developed new orders, therefore there are defts and pseudo-defts.  he Constraints and options are: Form-function mappings, fused constructions and argument trespassing across clause boundaries, s ntence constituents (espacially verb arguments) move across these clause boundaries, the semantic roles of subject and the passive. \\n4. Sketch the major phonological differences between English and German. Focus either on (1) contrasting the vowel inventories of English and German or (2) contrasting the consonant inventories of English and German or (3) phonotatic differences between English and German. \\n(3)  In German the main stress is usually placed on the first element, whereas in English it often happens that more than one element is stressed. T e main stress in English can even be on the second or third element of a compound. Another difference is the r ythm.  lthough English and German are both stress-timed languages, syllable stress in English is much more isochronous than in Germannn   \n"
     ]
    }
   ],
   "source": [
    "print(''.join(s))"
   ]
  },
  {
   "cell_type": "code",
   "execution_count": null,
   "metadata": {},
   "outputs": [],
   "source": []
  }
 ],
 "metadata": {
  "kernelspec": {
   "display_name": "Python 3",
   "language": "python",
   "name": "python3"
  },
  "language_info": {
   "codemirror_mode": {
    "name": "ipython",
    "version": 3
   },
   "file_extension": ".py",
   "mimetype": "text/x-python",
   "name": "python",
   "nbconvert_exporter": "python",
   "pygments_lexer": "ipython3",
   "version": "3.7.4"
  },
  "latex_envs": {
   "LaTeX_envs_menu_present": true,
   "autoclose": true,
   "autocomplete": true,
   "bibliofile": "biblio.bib",
   "cite_by": "apalike",
   "current_citInitial": 1,
   "eqLabelWithNumbers": true,
   "eqNumInitial": 1,
   "hotkeys": {
    "equation": "Ctrl-E",
    "itemize": "Ctrl-I"
   },
   "labels_anchors": false,
   "latex_user_defs": false,
   "report_style_numbering": false,
   "user_envs_cfg": false
  },
  "nbTranslate": {
   "displayLangs": [
    "*"
   ],
   "hotkey": "alt-t",
   "langInMainMenu": true,
   "sourceLang": "en",
   "targetLang": "fr",
   "useGoogleTranslate": true
  }
 },
 "nbformat": 4,
 "nbformat_minor": 2
}
