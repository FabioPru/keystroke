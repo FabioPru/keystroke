{
 "cells": [
  {
   "cell_type": "markdown",
   "metadata": {},
   "source": [
    "# Imports and I/O"
   ]
  },
  {
   "cell_type": "code",
   "execution_count": 80,
   "metadata": {
    "ExecuteTime": {
     "end_time": "2019-06-11T13:12:18.720538Z",
     "start_time": "2019-06-11T13:12:18.674616Z"
    }
   },
   "outputs": [
    {
     "name": "stdout",
     "output_type": "stream",
     "text": [
      "The Cython extension is already loaded. To reload it, use:\n",
      "  %reload_ext Cython\n",
      "All libraries set-up and ready to go!\n"
     ]
    }
   ],
   "source": [
    "# Imports\n",
    "import sys\n",
    "import numpy as np\n",
    "import pandas as pd\n",
    "import json\n",
    "\n",
    "# Configs\n",
    "%config InlineBackend.figure_format ='retina'\n",
    "%matplotlib inline\n",
    "\n",
    "# Cython\n",
    "%load_ext Cython\n",
    "#!python\n",
    "#cython: language_level=3\n",
    "\n",
    "print(\"All libraries set-up and ready to go!\")"
   ]
  },
  {
   "cell_type": "code",
   "execution_count": 72,
   "metadata": {
    "ExecuteTime": {
     "end_time": "2019-06-11T13:04:18.390929Z",
     "start_time": "2019-06-11T13:04:18.369907Z"
    }
   },
   "outputs": [],
   "source": [
    "def writeSuffixK (suffix=''):\n",
    "    with open('../../pads/suffixK.txt', 'w') as suffixK:\n",
    "        suffixK.write(suffix)\n",
    "        suffixK.close()\n",
    "\n",
    "def writeSuffixS (suffix=''):\n",
    "    with open('../../pads/suffixS.txt', 'w') as suffixS:\n",
    "        suffixS.write(suffix)\n",
    "        suffixS.close()\n",
    "        \n",
    "def readSuffixK ():\n",
    "    suffix = ''\n",
    "    f = open('../../pads/suffixK.txt', 'r')\n",
    "    suffix = f.read()\n",
    "    f.close()\n",
    "    return suffix\n",
    "\n",
    "def readSuffixS ():\n",
    "    suffix = ''\n",
    "    f = open('../../pads/suffixS.txt', 'r')\n",
    "    suffix = f.read()\n",
    "    f.close()\n",
    "    return suffix"
   ]
  },
  {
   "cell_type": "code",
   "execution_count": 73,
   "metadata": {
    "ExecuteTime": {
     "end_time": "2019-06-11T13:04:35.575487Z",
     "start_time": "2019-06-11T13:04:35.549701Z"
    }
   },
   "outputs": [],
   "source": [
    "def loadKeystrokes (suffix=''):\n",
    "    if suffix == '':\n",
    "        suffix = readSuffixK()\n",
    "    global k\n",
    "    k = pd.read_csv('../../pads/keystrokes' + suffix + '.csv', index_col=False)\n",
    "\n",
    "def loadSentences (suffix=''):\n",
    "    if suffix == '':\n",
    "        suffix = readSuffixS()\n",
    "    global s\n",
    "    s = pd.read_csv('../../pads/sentences' + suffix + '.csv')\n",
    "\n",
    "def loadFiles (suffix=''):\n",
    "    global f\n",
    "    f = pd.read_csv('../../pads/files.csv')\n",
    "\n",
    "def loadWords (suffix=''):\n",
    "    global w\n",
    "    w = pd.read_csv('../../pads/words.csv')\n",
    "\n",
    "def loadUsers (suffix=''):\n",
    "    global u\n",
    "    u = pd.read_csv('../../pads/users.csv')"
   ]
  },
  {
   "cell_type": "code",
   "execution_count": 74,
   "metadata": {
    "ExecuteTime": {
     "end_time": "2019-06-11T13:04:54.045076Z",
     "start_time": "2019-06-11T13:04:54.024101Z"
    }
   },
   "outputs": [],
   "source": [
    "def writeKeystrokes (suffix=''):\n",
    "    global k\n",
    "    k.to_csv('../../pads/keystrokes' + suffix + '.csv', index=False)\n",
    "    writeSuffixK(suffix)\n",
    "    \n",
    "def writeSentences (suffix=''):\n",
    "    global s\n",
    "    s.to_csv('../../pads/sentences' + suffix + '.csv', index=False)\n",
    "    writeSuffixS(suffix)\n",
    "    \n",
    "def writeFiles (suffix=''):\n",
    "    global f\n",
    "    f.to_csv('../../pads/files.csv', index=False)\n",
    "    \n",
    "def writeWords (suffix=''):\n",
    "    global w\n",
    "    w.to_csv('../../pads/words.csv', index=False)\n",
    "    \n",
    "def writeUsers (suffix=''):\n",
    "    global u\n",
    "    u.to_csv('../../pads/users.csv', index=False)\n",
    "    \n",
    "def writeAll (suffix=''):\n",
    "    writeKeystrokes(suffix)\n",
    "    writeSentences(suffix)\n",
    "    writeFiles()\n",
    "    writeWords()\n",
    "    writeUsers()"
   ]
  },
  {
   "cell_type": "code",
   "execution_count": 75,
   "metadata": {
    "ExecuteTime": {
     "end_time": "2019-06-11T13:05:13.237053Z",
     "start_time": "2019-06-11T13:05:13.228466Z"
    }
   },
   "outputs": [],
   "source": [
    "def dropSentence (id):\n",
    "    global s\n",
    "    global k\n",
    "    s = s[s.id != id]\n",
    "    k = k[k.s_id != id]"
   ]
  },
  {
   "cell_type": "code",
   "execution_count": 76,
   "metadata": {
    "ExecuteTime": {
     "end_time": "2019-06-11T13:05:29.373063Z",
     "start_time": "2019-06-11T13:05:29.367640Z"
    }
   },
   "outputs": [],
   "source": [
    "alphabet = 'poiuytrewqlkjhgfdsamnbvcxzPOIUYTREWQKLJHGFDSAMNBVCXZ'"
   ]
  },
  {
   "cell_type": "code",
   "execution_count": 13,
   "metadata": {
    "ExecuteTime": {
     "end_time": "2019-06-11T12:25:34.563794Z",
     "start_time": "2019-06-11T12:25:20.723446Z"
    }
   },
   "outputs": [],
   "source": [
    "loadKeystrokes()\n",
    "loadSentences()\n",
    "loadFiles()"
   ]
  },
  {
   "cell_type": "markdown",
   "metadata": {},
   "source": [
    "# Printing s, k (see what they look like)"
   ]
  },
  {
   "cell_type": "code",
   "execution_count": 14,
   "metadata": {
    "ExecuteTime": {
     "end_time": "2019-06-11T12:25:34.804243Z",
     "start_time": "2019-06-11T12:25:34.772449Z"
    },
    "scrolled": true
   },
   "outputs": [
    {
     "data": {
      "text/html": [
       "<div>\n",
       "<style scoped>\n",
       "    .dataframe tbody tr th:only-of-type {\n",
       "        vertical-align: middle;\n",
       "    }\n",
       "\n",
       "    .dataframe tbody tr th {\n",
       "        vertical-align: top;\n",
       "    }\n",
       "\n",
       "    .dataframe thead th {\n",
       "        text-align: right;\n",
       "    }\n",
       "</style>\n",
       "<table border=\"1\" class=\"dataframe\">\n",
       "  <thead>\n",
       "    <tr style=\"text-align: right;\">\n",
       "      <th></th>\n",
       "      <th>text</th>\n",
       "      <th>start_pos</th>\n",
       "      <th>end_pos</th>\n",
       "      <th>path</th>\n",
       "      <th>id</th>\n",
       "      <th>f_id</th>\n",
       "      <th>p_id</th>\n",
       "    </tr>\n",
       "  </thead>\n",
       "  <tbody>\n",
       "    <tr>\n",
       "      <th>0</th>\n",
       "      <td>Learning Journal 1\\n\\nThe second session dealt...</td>\n",
       "      <td>0</td>\n",
       "      <td>71</td>\n",
       "      <td>SS18/01894/1</td>\n",
       "      <td>0</td>\n",
       "      <td>0</td>\n",
       "      <td>0</td>\n",
       "    </tr>\n",
       "    <tr>\n",
       "      <th>1</th>\n",
       "      <td>In the following I will describe the most impo...</td>\n",
       "      <td>72</td>\n",
       "      <td>142</td>\n",
       "      <td>SS18/01894/1</td>\n",
       "      <td>1</td>\n",
       "      <td>0</td>\n",
       "      <td>0</td>\n",
       "    </tr>\n",
       "    <tr>\n",
       "      <th>2</th>\n",
       "      <td>The first important term is Second language.</td>\n",
       "      <td>144</td>\n",
       "      <td>188</td>\n",
       "      <td>SS18/01894/1</td>\n",
       "      <td>2</td>\n",
       "      <td>0</td>\n",
       "      <td>0</td>\n",
       "    </tr>\n",
       "  </tbody>\n",
       "</table>\n",
       "</div>"
      ],
      "text/plain": [
       "                                                text  start_pos  end_pos  \\\n",
       "0  Learning Journal 1\\n\\nThe second session dealt...          0       71   \n",
       "1  In the following I will describe the most impo...         72      142   \n",
       "2       The first important term is Second language.        144      188   \n",
       "\n",
       "           path  id  f_id  p_id  \n",
       "0  SS18/01894/1   0     0     0  \n",
       "1  SS18/01894/1   1     0     0  \n",
       "2  SS18/01894/1   2     0     0  "
      ]
     },
     "execution_count": 14,
     "metadata": {},
     "output_type": "execute_result"
    }
   ],
   "source": [
    "s.head(3)"
   ]
  },
  {
   "cell_type": "code",
   "execution_count": 15,
   "metadata": {
    "ExecuteTime": {
     "end_time": "2019-06-11T12:25:35.038325Z",
     "start_time": "2019-06-11T12:25:35.029210Z"
    }
   },
   "outputs": [
    {
     "data": {
      "text/plain": [
       "Index([u'text', u'start_pos', u'end_pos', u'path', u'id', u'f_id', u'p_id'], dtype='object')"
      ]
     },
     "execution_count": 15,
     "metadata": {},
     "output_type": "execute_result"
    }
   ],
   "source": [
    "s.columns"
   ]
  },
  {
   "cell_type": "code",
   "execution_count": 16,
   "metadata": {
    "ExecuteTime": {
     "end_time": "2019-06-11T12:25:35.291313Z",
     "start_time": "2019-06-11T12:25:35.269802Z"
    },
    "scrolled": true
   },
   "outputs": [
    {
     "data": {
      "text/html": [
       "<div>\n",
       "<style scoped>\n",
       "    .dataframe tbody tr th:only-of-type {\n",
       "        vertical-align: middle;\n",
       "    }\n",
       "\n",
       "    .dataframe tbody tr th {\n",
       "        vertical-align: top;\n",
       "    }\n",
       "\n",
       "    .dataframe thead th {\n",
       "        text-align: right;\n",
       "    }\n",
       "</style>\n",
       "<table border=\"1\" class=\"dataframe\">\n",
       "  <thead>\n",
       "    <tr style=\"text-align: right;\">\n",
       "      <th></th>\n",
       "      <th>t</th>\n",
       "      <th>end_t</th>\n",
       "      <th>char</th>\n",
       "      <th>pos</th>\n",
       "      <th>op</th>\n",
       "      <th>path</th>\n",
       "      <th>s_id</th>\n",
       "    </tr>\n",
       "  </thead>\n",
       "  <tbody>\n",
       "    <tr>\n",
       "      <th>0</th>\n",
       "      <td>2783551</td>\n",
       "      <td>1524218645504</td>\n",
       "      <td>L</td>\n",
       "      <td>0</td>\n",
       "      <td>+</td>\n",
       "      <td>SS18/01894/1</td>\n",
       "      <td>0</td>\n",
       "    </tr>\n",
       "    <tr>\n",
       "      <th>1</th>\n",
       "      <td>255</td>\n",
       "      <td>1524218645759</td>\n",
       "      <td>e</td>\n",
       "      <td>1</td>\n",
       "      <td>+</td>\n",
       "      <td>SS18/01894/1</td>\n",
       "      <td>0</td>\n",
       "    </tr>\n",
       "    <tr>\n",
       "      <th>2</th>\n",
       "      <td>255</td>\n",
       "      <td>1524218646014</td>\n",
       "      <td>a</td>\n",
       "      <td>2</td>\n",
       "      <td>+</td>\n",
       "      <td>SS18/01894/1</td>\n",
       "      <td>0</td>\n",
       "    </tr>\n",
       "  </tbody>\n",
       "</table>\n",
       "</div>"
      ],
      "text/plain": [
       "         t          end_t char  pos op          path  s_id\n",
       "0  2783551  1524218645504    L    0  +  SS18/01894/1     0\n",
       "1      255  1524218645759    e    1  +  SS18/01894/1     0\n",
       "2      255  1524218646014    a    2  +  SS18/01894/1     0"
      ]
     },
     "execution_count": 16,
     "metadata": {},
     "output_type": "execute_result"
    }
   ],
   "source": [
    "k.head(3)"
   ]
  },
  {
   "cell_type": "code",
   "execution_count": 71,
   "metadata": {
    "ExecuteTime": {
     "end_time": "2019-06-11T13:02:18.793823Z",
     "start_time": "2019-06-11T13:02:18.777791Z"
    }
   },
   "outputs": [
    {
     "data": {
      "text/plain": [
       "(14966923, 1831361, 95656, 3466, 513)"
      ]
     },
     "execution_count": 71,
     "metadata": {},
     "output_type": "execute_result"
    }
   ],
   "source": [
    "len(k), len(w), len(s), len(f), len(u)"
   ]
  },
  {
   "cell_type": "markdown",
   "metadata": {},
   "source": [
    "# Summary statistics computation"
   ]
  },
  {
   "cell_type": "code",
   "execution_count": 84,
   "metadata": {
    "ExecuteTime": {
     "end_time": "2019-06-11T23:29:52.477361Z",
     "start_time": "2019-06-11T21:57:43.853110Z"
    },
    "code_folding": [
     0
    ]
   },
   "outputs": [],
   "source": [
    "# Computes basic metrics about pauses and their length    (1h 40)\n",
    "k_sorted = k.sort_values(by='s_id')\n",
    "rs = 0; re = 0; ranges = {}\n",
    "for idx, val in k_sorted['s_id'].value_counts().sort_index().iteritems():\n",
    "    re += val\n",
    "    ranges[idx] = (rs, re)\n",
    "    rs += val\n",
    "    \n",
    "for s_id, row in s.iterrows():\n",
    "    if ranges.get(s_id) != None:\n",
    "        u, v = ranges.get(s_id)\n",
    "        k_sentence = k_sorted.iloc[u:v, :]\n",
    "    else:\n",
    "        k_sentence = k_sorted.iloc[0:0, :]\n",
    "    \n",
    "    ###### YOUR CODE HERE #####\n",
    "    ## Will run ranging over sentence with s_id, row, k_sentence ##\n",
    "    ## Example: s.at[s_id, 'ks_len'] = len(k_sentence) / len(row['text'])\n",
    "    \n",
    "    s.at[s_id, 'text_len']   = len(row['text'])\n",
    "    s.at[s_id, 'word_count'] = len(row['text'].split())\n",
    "    \n",
    "    s.at[s_id, 't']         = k_sentence['t'].sum()\n",
    "    s.at[s_id, 't_filter_2000']  = k_sentence['t'].apply(lambda x: min(x,  2000)).sum()\n",
    "    s.at[s_id, 't_filter_5000']  = k_sentence['t'].apply(lambda x: min(x,  5000)).sum()\n",
    "    s.at[s_id, 't_filter_10000'] = k_sentence['t'].apply(lambda x: min(x, 10000)).sum()\n",
    "    s.at[s_id, 't_filter_30000'] = k_sentence['t'].apply(lambda x: min(x, 30000)).sum()\n",
    "    \n",
    "    s.at[s_id, 'elapsed_t'] = k_sentence['end_t'].max() - k_sentence['end_t'].min()\n",
    "    s.at[s_id, 'elapsed_t/t'] = s.at[s_id, 'elapsed_t'] /  s.at[s_id, 't']\n",
    "    s.at[s_id, 'del_t']     = k_sentence[k_sentence['op'] == '-']['t'].sum()\n",
    "    s.at[s_id, 'del_t_filter_10000']     = k_sentence[k_sentence['op'] == '-']['t'].apply(lambda x: min(x, 10000)).sum()    \n",
    "    s.at[s_id, 'del_t/t'] = s.at[s_id, 'del_t'] /  s.at[s_id, 't']\n",
    "    s.at[s_id, 'del_t_filter_10000/t'] = s.at[s_id, 'del_t_filter_10000'] /  s.at[s_id, 't']    \n",
    "    \n",
    "    s.at[s_id, 'k_count']   = len(k_sentence)\n",
    "    s.at[s_id, 'k/len']     = s.at[s_id, 'k_count'] / s.at[s_id, 'text_len']\n",
    "    s.at[s_id, 'del_count'] = len(k_sentence[k_sentence['op'] == '-'])\n",
    "    s.at[s_id, 'del/len']   = s.at[s_id, 'del_count'] / s.at[s_id, 'text_len']\n",
    "    \n",
    "    # A \"jump\" is defined as switching to a different point within a sentence\n",
    "    # A \"chunk\" is defined as a contiguous block of time in which you're working on that sentence\n",
    "    jump_ctr = 0; chunk_ctr = 0; \n",
    "    last_pos = k_sentence['pos'].min(); last_t = 0;\n",
    "    for idx, val in k_sentence.sort_values(by='end_t').iterrows():\n",
    "        if abs(val['pos'] - last_pos) > 1:\n",
    "            jump_ctr += 1\n",
    "        if abs(val['end_t'] - val['t'] - last_t) > 1:\n",
    "            chunk_ctr += 1\n",
    "        last_pos = val['pos']; last_t = val['end_t']\n",
    "    \n",
    "    s.at[s_id, 'jumps'] = jump_ctr\n",
    "    s.at[s_id, 'chunks'] = chunk_ctr\n",
    "\n",
    "    s.at[s_id, 't/len_raw']          = s.at[s_id, 't'] / s.at[s_id, 'text_len']\n",
    "    s.at[s_id, 't/len_filter_2000']  = s.at[s_id, 't_filter_2000']  / s.at[s_id, 'text_len']\n",
    "    s.at[s_id, 't/len_filter_5000']  = s.at[s_id, 't_filter_5000']  / s.at[s_id, 'text_len']\n",
    "    s.at[s_id, 't/len_filter_10000'] = s.at[s_id, 't_filter_10000'] / s.at[s_id, 'text_len']\n",
    "    s.at[s_id, 't/len_filter_30000'] = s.at[s_id, 't_filter_30000'] / s.at[s_id, 'text_len']\n",
    "    \n",
    "    s.at[s_id, 't/word_raw']          = s.at[s_id, 't'] / s.at[s_id, 'word_count']\n",
    "    s.at[s_id, 't/word_filter_10000'] = s.at[s_id, 't_filter_10000'] / s.at[s_id, 'word_count']    \n",
    "    \n",
    "    s.at[s_id, 'p_510_no']   = len(k_sentence[k_sentence['t'] >   510])\n",
    "    s.at[s_id, 'p_1000_no']  = len(k_sentence[k_sentence['t'] >  1000])\n",
    "    s.at[s_id, 'p_2000_no']  = len(k_sentence[k_sentence['t'] >  2000])\n",
    "    s.at[s_id, 'p_5000_no']  = len(k_sentence[k_sentence['t'] >  5000])\n",
    "    s.at[s_id, 'p_10000_no'] = len(k_sentence[k_sentence['t'] > 10000])\n",
    "    \n",
    "    \n",
    "    \n",
    "    "
   ]
  },
  {
   "cell_type": "code",
   "execution_count": 85,
   "metadata": {
    "ExecuteTime": {
     "end_time": "2019-06-12T00:52:25.067113Z",
     "start_time": "2019-06-11T23:30:30.539142Z"
    },
    "code_folding": [
     0
    ]
   },
   "outputs": [],
   "source": [
    "# Divides time spent on a sentence between revisions, word and separator     (1h 15)\n",
    "\n",
    "for s_id, row in s.iterrows():\n",
    "    if ranges.get(s_id) != None:\n",
    "        u, v = ranges.get(s_id)\n",
    "        k_sentence = k_sorted.iloc[u:v, :]\n",
    "    else:\n",
    "        k_sentence = k_sorted.iloc[0:0, :]\n",
    "        \n",
    "    ###### YOUR CODE HERE #####        \n",
    "        \n",
    "    pos_time = {}; pos_time_10000 = {}; start_pos = k_sentence['pos'].min()\n",
    "    word_time = 0; separator_time = 0; revision_time = k_sentence['t'].sum()\n",
    "    word_time_10000 = 0; separator_time_10000 = 0; revision_time_10000 = k_sentence['t'].apply(lambda x: min(x, 10000)).sum()\n",
    "    for idx, val in k_sentence.sort_values(by='end_t').iterrows():\n",
    "        if val['pos'] not in pos_time:\n",
    "            revision_time -= val['t'];        revision_time_10000 -= min(val['t'], 10000)\n",
    "            pos_time[val['pos']] = val['t'];  pos_time_10000[val['pos']] = min(val['t'], 10000)\n",
    "        else:\n",
    "            pos_time[val['pos']] += val['t']; pos_time_10000[val['pos']] += min(val['t'], 10000)\n",
    "        \n",
    "    for key, val in pos_time.items():\n",
    "        if 1 <= key - start_pos < s.at[s_id, 'text_len']:\n",
    "            if (row['text'][key - start_pos] in alphabet) and (row['text'][key - start_pos - 1] in alphabet):\n",
    "                word_time += val;      word_time_10000 += min(10000, val)\n",
    "            else:\n",
    "                separator_time += val; separator_time_10000 += min(10000, val)\n",
    "                    \n",
    "    s.at[s_id, 'revision_t']  = revision_time  # time spent on successive versions of a same character\n",
    "    s.at[s_id, 'word_t']      = word_time      # time spent in-between a word\n",
    "    s.at[s_id, 'separator_t'] = separator_time # time spent between two words\n",
    "    s.at[s_id, 'revision_t_filter_10000']  = revision_time_10000  \n",
    "    s.at[s_id, 'word_t_filter_10000']      = word_time_10000      \n",
    "    s.at[s_id, 'separator_t_filter_10000'] = separator_time_10000 \n",
    "    \n",
    "    s.at[s_id, 'revision_t/t']   = revision_time  / s.at[s_id, 't']\n",
    "    s.at[s_id, 'revision_t/len'] = revision_time  / s.at[s_id, 'text_len']\n",
    "    s.at[s_id, 'word_t/t']       = word_time      / s.at[s_id, 't']\n",
    "    s.at[s_id, 'separator_t/t']  = separator_time / s.at[s_id, 't']\n",
    "    s.at[s_id, 'revision_t/t_filter_10000']   = revision_time_10000  / s.at[s_id, 't_filter_10000']\n",
    "    s.at[s_id, 'revision_t/len_filter_10000'] = revision_time_10000  / s.at[s_id, 'text_len']\n",
    "    s.at[s_id, 'word_t/t_filter_10000']       = word_time_10000      / s.at[s_id, 't_filter_10000']\n",
    "    s.at[s_id, 'separator_t/t_filter_10000']  = separator_time_10000 / s.at[s_id, 't_filter_10000']\n",
    "    "
   ]
  },
  {
   "cell_type": "code",
   "execution_count": 86,
   "metadata": {
    "ExecuteTime": {
     "end_time": "2019-06-12T01:59:42.633152Z",
     "start_time": "2019-06-12T00:52:54.152513Z"
    },
    "code_folding": [
     0
    ]
   },
   "outputs": [],
   "source": [
    "# Computes words and matches them to k   (65 mins)\n",
    "wds = []; count = 0\n",
    "match_k = []\n",
    "\n",
    "for s_id, row in s.iterrows():\n",
    "    text = s.at[s_id, 'text'] + \" \"\n",
    "    sep = \"'-\"\n",
    "    cpos = s.at[s_id, 'start_pos']; ipos = max(0, s.at[s_id, 'start_pos'] - 1); cword = ''; k_dict = {}\n",
    "    for c in text:\n",
    "        if (c in alphabet) or (c in sep):\n",
    "            cword += str(c)\n",
    "        else:\n",
    "            if cword:\n",
    "                wds.append({'id': count, 'text': cword, 'path': s.at[s_id, 'path'], 'start_pos': ipos, 'end_pos': cpos - 1, 's_id': s_id})\n",
    "                for t in range(ipos, cpos):\n",
    "                    k_dict[t] = count\n",
    "                count += 1\n",
    "            cword = ''; ipos = cpos\n",
    "        cpos += 1\n",
    "    \n",
    "    match_k.append(k_dict)\n",
    "        \n",
    "w = pd.DataFrame(wds, columns=['id', 'text', 'start_pos', 'end_pos', 'path', 's_id'])\n",
    "\n",
    "for k_id, row in k.iterrows():\n",
    "    k.at[k_id, 'w_id'] = match_k[row['s_id']].get(row['pos'], -1)"
   ]
  },
  {
   "cell_type": "code",
   "execution_count": 87,
   "metadata": {
    "ExecuteTime": {
     "end_time": "2019-06-12T03:00:41.917297Z",
     "start_time": "2019-06-12T02:00:18.007395Z"
    },
    "code_folding": [
     0
    ]
   },
   "outputs": [],
   "source": [
    "# Compute u_id, f_id, s_ids (1h 25)\n",
    "d = {}; dd = {}; ctr = 0\n",
    "usrs = []\n",
    "for idx, row in f.iterrows():\n",
    "    if row['path'].split('/')[1] not in d:\n",
    "        d[row['path'].split('/')[1]] = ctr\n",
    "        usrs.append({'id': ctr, 'path': row['path'].split('/')[1]})\n",
    "        f.at[idx, 'u_id'] = ctr\n",
    "        ctr += 1\n",
    "    else:\n",
    "        f.at[idx, 'u_id'] = d[row['path'].split('/')[1]]\n",
    "    dd[row['path']] = idx\n",
    "\n",
    "for idx, row in s.iterrows():\n",
    "    s.at[idx, 'u_id'] = d[row['path'].split('/')[1]]\n",
    "wcol = []; wwcol = []; rcol = []; rrcol = []\n",
    "for idx, row in w.iterrows():\n",
    "    wcol.append(d[row['path'].split('/')[1]])\n",
    "    wwcol.append(dd[row['path']])\n",
    "for idx, row in k.iterrows():\n",
    "    rcol.append(d[row['path'].split('/')[1]])\n",
    "    rrcol.append(dd[row['path']])\n",
    "    \n",
    "u = pd.DataFrame(usrs)\n",
    "\n",
    "k['f_id'] = rrcol; k['u_id'] = rcol\n",
    "w['f_id'] = wwcol; w['u_id'] = wcol"
   ]
  },
  {
   "cell_type": "code",
   "execution_count": 91,
   "metadata": {
    "ExecuteTime": {
     "end_time": "2019-06-12T11:28:32.129242Z",
     "start_time": "2019-06-12T11:28:26.244746Z"
    },
    "code_folding": []
   },
   "outputs": [],
   "source": [
    "# Fix formatting\n",
    "k = k[['w_id', 's_id', 'f_id', 'u_id', 'char', 'pos', 't', 'end_t', 'op', 'path']]\n",
    "w = w[['id', 's_id', 'f_id', 'u_id', 'text', 'start_pos', 'end_pos', 'path']]\n",
    "s = s[['id', 'f_id', 'u_id', 'text', 'start_pos', 'end_pos', u'text_len', u'word_count', u't', u't_filter_2000', u't_filter_5000',\n",
    "       u't_filter_10000', u't_filter_30000', u'elapsed_t', u'elapsed_t/t',\n",
    "       u'del_t', u'del_t_filter_10000', u'del_t/t', u'del_t_filter_10000/t',\n",
    "       u'k_count', u'k/len', u'del_count', u'del/len', u'jumps', u'chunks',\n",
    "       u't/len_raw', u't/len_filter_2000', u't/len_filter_5000',\n",
    "       u't/len_filter_10000', u't/len_filter_30000', u't/word_raw',\n",
    "       u't/word_filter_10000', u'p_510_no', u'p_1000_no', u'p_2000_no',\n",
    "       u'p_5000_no', u'p_10000_no', u'revision_t', u'word_t', u'separator_t',\n",
    "       u'revision_t_filter_10000', u'word_t_filter_10000',\n",
    "       u'separator_t_filter_10000', u'revision_t/t', u'revision_t/len',\n",
    "       u'word_t/t', u'separator_t/t', u'revision_t/t_filter_10000',\n",
    "       u'revision_t/len_filter_10000', u'word_t/t_filter_10000',\n",
    "       u'separator_t/t_filter_10000', 'path']]\n",
    "f = f[['id', 'u_id', 's_id_s', 's_id_e', 'path']]\n",
    "u['hash'] = u['path']; u = u[['id', 'hash']]"
   ]
  },
  {
   "cell_type": "code",
   "execution_count": 92,
   "metadata": {
    "ExecuteTime": {
     "end_time": "2019-06-12T11:31:06.350399Z",
     "start_time": "2019-06-12T11:29:09.869070Z"
    }
   },
   "outputs": [],
   "source": [
    "writeKeystrokes()\n",
    "writeWords()\n",
    "writeSentences()\n",
    "writeFiles()\n",
    "writeUsers()"
   ]
  },
  {
   "cell_type": "code",
   "execution_count": null,
   "metadata": {},
   "outputs": [],
   "source": []
  },
  {
   "cell_type": "markdown",
   "metadata": {},
   "source": [
    "# Graphs"
   ]
  },
  {
   "cell_type": "code",
   "execution_count": 23,
   "metadata": {
    "ExecuteTime": {
     "end_time": "2019-06-07T07:42:19.236236Z",
     "start_time": "2019-06-07T07:42:17.846420Z"
    },
    "scrolled": false
   },
   "outputs": [
    {
     "data": {
      "text/plain": [
       "<matplotlib.axes._subplots.AxesSubplot at 0x115cc4450>"
      ]
     },
     "execution_count": 23,
     "metadata": {},
     "output_type": "execute_result"
    },
    {
     "data": {
      "image/png": "[encoded data removed]",
      "text/plain": [
       "<Figure size 432x288 with 1 Axes>"
      ]
     },
     "metadata": {
      "image/png": {
       "height": 250,
       "width": 390
      },
      "needs_background": "light"
     },
     "output_type": "display_data"
    }
   ],
   "source": [
    " k[(k['t'] >= 540) & (k['t'] < 4000) & (k['op'] == '+')]['t'].hist(bins=100)"
   ]
  },
  {
   "cell_type": "code",
   "execution_count": 74,
   "metadata": {
    "ExecuteTime": {
     "end_time": "2019-06-07T10:13:17.497389Z",
     "start_time": "2019-06-07T10:13:16.454950Z"
    }
   },
   "outputs": [
    {
     "data": {
      "text/plain": [
       "<matplotlib.axes._subplots.AxesSubplot at 0x11e92edd0>"
      ]
     },
     "execution_count": 74,
     "metadata": {},
     "output_type": "execute_result"
    },
    {
     "data": {
      "image/png": "[encoded data removed]",
      "text/plain": [
       "<Figure size 432x288 with 1 Axes>"
      ]
     },
     "metadata": {
      "image/png": {
       "height": 250,
       "width": 370
      },
      "needs_background": "light"
     },
     "output_type": "display_data"
    }
   ],
   "source": [
    "s.head(900)['separator_t/t'].hist(bins=100)"
   ]
  },
  {
   "cell_type": "code",
   "execution_count": 73,
   "metadata": {
    "ExecuteTime": {
     "end_time": "2019-06-07T10:13:05.170146Z",
     "start_time": "2019-06-07T10:13:04.037407Z"
    },
    "scrolled": true
   },
   "outputs": [
    {
     "data": {
      "text/plain": [
       "<matplotlib.axes._subplots.AxesSubplot at 0x11ead3f50>"
      ]
     },
     "execution_count": 73,
     "metadata": {},
     "output_type": "execute_result"
    },
    {
     "data": {
      "image/png": "[encoded data removed]",
      "text/plain": [
       "<Figure size 432x288 with 1 Axes>"
      ]
     },
     "metadata": {
      "image/png": {
       "height": 250,
       "width": 370
      },
      "needs_background": "light"
     },
     "output_type": "display_data"
    }
   ],
   "source": [
    "s.head(900)['word_t/t'].hist(bins=100)"
   ]
  },
  {
   "cell_type": "code",
   "execution_count": 81,
   "metadata": {
    "ExecuteTime": {
     "end_time": "2019-06-11T13:12:44.826646Z",
     "start_time": "2019-06-11T13:12:37.393890Z"
    }
   },
   "outputs": [],
   "source": [
    "k['log_t'] = k['t'].apply(lambda x: x+1).apply(np.log)"
   ]
  },
  {
   "cell_type": "code",
   "execution_count": 83,
   "metadata": {
    "ExecuteTime": {
     "end_time": "2019-06-11T13:13:46.800361Z",
     "start_time": "2019-06-11T13:13:40.902823Z"
    }
   },
   "outputs": [
    {
     "data": {
      "text/plain": [
       "<matplotlib.axes._subplots.AxesSubplot at 0x11f0cfdd0>"
      ]
     },
     "execution_count": 83,
     "metadata": {},
     "output_type": "execute_result"
    },
    {
     "data": {
      "image/png": "[encoded data removed]",
      "text/plain": [
       "<Figure size 432x288 with 1 Axes>"
      ]
     },
     "metadata": {
      "image/png": {
       "height": 250,
       "width": 402
      },
      "needs_background": "light"
     },
     "output_type": "display_data"
    }
   ],
   "source": [
    "k[(k['log_t'] < 14) & (k['log_t'] > 3)]['log_t'].hist(bins=100)"
   ]
  },
  {
   "cell_type": "markdown",
   "metadata": {},
   "source": [
    "# Writing to file"
   ]
  },
  {
   "cell_type": "code",
   "execution_count": 81,
   "metadata": {
    "ExecuteTime": {
     "end_time": "2019-06-07T07:15:22.234188Z",
     "start_time": "2019-06-07T07:15:19.726785Z"
    }
   },
   "outputs": [],
   "source": [
    "writeSentences('_base_statistics_1')"
   ]
  },
  {
   "cell_type": "code",
   "execution_count": null,
   "metadata": {},
   "outputs": [],
   "source": []
  },
  {
   "cell_type": "code",
   "execution_count": null,
   "metadata": {},
   "outputs": [],
   "source": []
  }
 ],
 "metadata": {
  "kernelspec": {
   "display_name": "Python 2",
   "language": "python",
   "name": "python2"
  },
  "language_info": {
   "codemirror_mode": {
    "name": "ipython",
    "version": 2
   },
   "file_extension": ".py",
   "mimetype": "text/x-python",
   "name": "python",
   "nbconvert_exporter": "python",
   "pygments_lexer": "ipython2",
   "version": "2.7.16"
  },
  "toc": {
   "base_numbering": 1,
   "nav_menu": {},
   "number_sections": true,
   "sideBar": true,
   "skip_h1_title": false,
   "title_cell": "Table of Contents",
   "title_sidebar": "Contents",
   "toc_cell": false,
   "toc_position": {
    "height": "calc(100% - 180px)",
    "left": "10px",
    "top": "150px",
    "width": "256px"
   },
   "toc_section_display": true,
   "toc_window_display": false
  },
  "varInspector": {
   "cols": {
    "lenName": 16,
    "lenType": 16,
    "lenVar": 40
   },
   "kernels_config": {
    "python": {
     "delete_cmd_postfix": "",
     "delete_cmd_prefix": "del ",
     "library": "var_list.py",
     "varRefreshCmd": "print(var_dic_list())"
    },
    "r": {
     "delete_cmd_postfix": ") ",
     "delete_cmd_prefix": "rm(",
     "library": "var_list.r",
     "varRefreshCmd": "cat(var_dic_list()) "
    }
   },
   "types_to_exclude": [
    "module",
    "function",
    "builtin_function_or_method",
    "instance",
    "_Feature"
   ],
   "window_display": false
  }
 },
 "nbformat": 4,
 "nbformat_minor": 2
}
