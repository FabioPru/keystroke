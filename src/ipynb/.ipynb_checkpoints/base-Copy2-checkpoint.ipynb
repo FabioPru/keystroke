{
 "cells": [
  {
   "cell_type": "markdown",
   "metadata": {
    "heading_collapsed": true
   },
   "source": [
    "# Comments"
   ]
  },
  {
   "cell_type": "markdown",
   "metadata": {
    "heading_collapsed": true,
    "hidden": true
   },
   "source": [
    "## Jupyter"
   ]
  },
  {
   "cell_type": "code",
   "execution_count": 1,
   "metadata": {
    "ExecuteTime": {
     "end_time": "2019-04-09T14:34:47.996238Z",
     "start_time": "2019-04-09T14:34:47.985399Z"
    },
    "hidden": true
   },
   "outputs": [],
   "source": [
    "# Jupyter Notebook shortcuts\n",
    "#  \n",
    "#   Esc -> go from edit (green) to command (blue) mode\n",
    "#   Enter -> go from command to edit\n",
    "#   Run a cell -> Shift + Enter\n",
    "#   Save file -> Cms + S\n",
    "#\n",
    "#   Cmd + Shift + P -> search for a command\n",
    "#\n",
    "#   Select multiple cells -> Shift + Up/Down\n",
    "#   Merge -> M\n",
    "#   Cut, Copy, Paste -> X, C, V (without Cmd)\n",
    "#   Add a cell -> (go out of cells) A (above) or B (below)\n",
    "#   Delete a cell -> D + D (not undoable)à\n",
    "#   Move a cell or a group (up/down) -> Alt + Up/Down\n",
    "#   Change between code and markdown -> M (to markdown), Y (to code)\n",
    "#\n",
    "#   Aggiungi/togli commenti: Alt + C\n",
    "#\n",
    "#   instructions: %run ./file.py  oppure anche %run ./thisnotebook.ipynb\n",
    "#   %%time at the beginning of a cell times the execution %timeit does it 100000 times\n",
    "#   !ls *.csv  esegue una istruzione bash\n",
    "#   LaTeX: $P(A \\mid B) = \\frac{P(B \\mid A)P(A)}{P(B)}$ in Markdown cells\n",
    "#\n",
    "#   Cython magic\n",
    "#  %%cython\n",
    "#  def myltiply_by_2(float x):\n",
    "#      return 2.0 * x"
   ]
  },
  {
   "cell_type": "markdown",
   "metadata": {
    "heading_collapsed": true,
    "hidden": true
   },
   "source": [
    "## Python"
   ]
  },
  {
   "cell_type": "code",
   "execution_count": 2,
   "metadata": {
    "ExecuteTime": {
     "end_time": "2019-04-09T14:34:48.172080Z",
     "start_time": "2019-04-09T14:34:48.164529Z"
    },
    "hidden": true
   },
   "outputs": [],
   "source": [
    "# Python Syntax\n",
    "#\n",
    "# help(x) provides info about x\n",
    "#  anche scritto x? -- x?? da accesso al source code\n",
    "# \n",
    "# Types: list, dict (std::map), string, int, float, bool (True or False only)\n",
    "#        to check: use type(x)\n",
    "#\n",
    "# List: building and slicing\n",
    "#      l = [\"vio\", \"dono\", \"e\"]   -- l itself is a pointer, so new_l = l doesnt duplicate the list, use new_l = list(l)\n",
    "#      l = [1:2]   ---  Generates l[1,2), that is l[1,1], end is not included\n",
    "#      l = [start:end:step], for instance l[::-1] reverses the list\n",
    "#      l.append(\"ciao\")    oppure l += [\"ciao\"]\n",
    "#      l.remove(\"value\")  l.index(\"value\") / crashes on failure --- Careful: LINEAR time\n",
    "#\n",
    "#\n",
    "# Dicts: like an std::map\n",
    "#      d = {\"a\": 10, \"b\": 42}\n",
    "#      d[nkey] = nval     del(d[\"a\"])    key in d  -- returns True or False\n",
    "#\n",
    "# Functions:\n",
    "#      def funz(arg1, arg2= defval[, opzarg]):\n",
    "#          \"\"\"docstring: spiega cosa fa la funzione\"\"\"\n",
    "#          return 5\n",
    "#\n",
    "# Output di Jupyter: è una lista In[...], accedi tipo Out[5]; last output = _, previous = __\n",
    "#"
   ]
  },
  {
   "cell_type": "markdown",
   "metadata": {
    "hidden": true
   },
   "source": [
    "## Pandas"
   ]
  },
  {
   "cell_type": "code",
   "execution_count": 15,
   "metadata": {
    "ExecuteTime": {
     "end_time": "2019-04-14T21:45:47.326310Z",
     "start_time": "2019-04-14T21:45:47.314015Z"
    },
    "hidden": true,
    "scrolled": true
   },
   "outputs": [],
   "source": [
    "#df.T - trasposto del dataframe\n",
    "#df.sort_values(by='Age' or ['Age', 'Overall'], ascending=False)\n",
    "#df.loc[:, 'D'] = np.array([5] * len(df)) filling with new values\n",
    "#df.shift(2)  porta tutto in giu di 2\n",
    "\n",
    "#df['Name'] ritorna una Series, uguale a df.Name\n",
    "#df[['Name', Age]] ritorna un df\n",
    "#df[[\"Name\"]] ritorna un df di una colonna\n",
    "#df[0:3] ritorna il range (3 escluso)\n",
    "\n",
    "#df.loc[5] ritorna elemento di indice 5, anche df.loc[7:11, \"Name\"] o df.loc[5, [\"Age\", \"Name\"]]\n",
    "#df.at[5, \"Name\"] fast access, come loc[5, \"Name\"]\n",
    "# però tra series di bool si usano & | ~, tipo (df.Age > 50) | (df.Wage < 10)\n",
    "\n",
    "#df.iloc[5, 7:10] oppure iloc[[5, 7, 20], [4, 5]] come loc ma con numeri anziche valori di indici\n",
    "\n",
    "#Boolean indexing: df[df.A > 0] oppure df[df['E'].isin(['two', 'four'])]\n",
    "#df2[df2 > 0] = -df2; in particolare df2 > 0 è una Series di bool (per un bool solo si usa .any(), .all())\n",
    "#df2[not df2.Age > 0]\n",
    "\n",
    "#df['Age'].mean(), median(), mode(), std(), corr() [correlation tra ogni coppia di colonne], these EXCLUDE missing data\n",
    "#df[\"Overall\"].value_counts(), .quantile(0.9)\n",
    "\n",
    "# Iterating: WARNING all of this is very slow\n",
    "#\n",
    "#for col in df:\n",
    "#    df[col]\n",
    "# Note: for x in Series produce delle values\n",
    "#\n",
    "#for idx, val in Series.iteritems()\n",
    "#  Series: (index, scalar value) pairs\n",
    "#  DataFrame: (column, Series) pairs\n"
   ]
  },
  {
   "cell_type": "code",
   "execution_count": 16,
   "metadata": {
    "ExecuteTime": {
     "end_time": "2019-04-14T21:45:47.802668Z",
     "start_time": "2019-04-14T21:45:47.791130Z"
    },
    "hidden": true
   },
   "outputs": [],
   "source": [
    "# Editing and cleaning columns\n",
    "#   Sapendo i valori: w['female'] = w['female'].map({'female': 1, 'male': 0})\n",
    "#   Mettendo numeri a cazzo (su Series): labels, uniques = pd.factorize(['b', 'b', 'a', 'c', 'b'])\n",
    "\n",
    "# Applying a function to all values in a col\n",
    "# def fix(x):\n",
    "#    try:\n",
    "#        return int(x[3:-1])\n",
    "#    except ValueError:\n",
    "#        return 0\n",
    "# df[\"NewWage\"] = df[\"Wage\"].apply(fix)\n",
    "\n",
    "# Handling NaNs\n",
    "#    df1.dropna(how='any'), fillna(value=5), pd.isna(df1), pd.notna()\n",
    "#    np.nan == np.nan è FALSE, usa (df + df).equals(df * 2)\n",
    "\n",
    "# Rinominare le colonne\n",
    "#    df.columns = df.columns.str.strip().str.lower().str.replace(' ', '_')\n",
    "\n",
    "# String processing\n",
    "#    str.replace('$', '') e simili (pd.str)\n",
    "\n",
    "# Discretizing continuous values\n",
    "#    .cut() e .qcut() trasformano in interi"
   ]
  },
  {
   "cell_type": "code",
   "execution_count": 17,
   "metadata": {
    "ExecuteTime": {
     "end_time": "2019-04-14T21:45:48.187499Z",
     "start_time": "2019-04-14T21:45:48.181774Z"
    },
    "hidden": true
   },
   "outputs": [],
   "source": [
    "# DataFrame Slicing\n",
    "#    df.sample(n=1000) - sceglie a caso\n",
    "#    "
   ]
  },
  {
   "cell_type": "code",
   "execution_count": 18,
   "metadata": {
    "ExecuteTime": {
     "end_time": "2019-04-14T21:45:48.589394Z",
     "start_time": "2019-04-14T21:45:48.580002Z"
    },
    "hidden": true
   },
   "outputs": [],
   "source": [
    "# Visualization\n",
    "#    Series.plot()\n",
    "#    Series.cumsum().plot()\n",
    "\n",
    "# Parameters\n",
    "#    title, xlabel, ylabel\n",
    "#    xticks([1, 2, 3, 4, 5]), yticks\n",
    "\n",
    "# Line plot: data against time .plot()\n",
    "# Scatter plot: x,y correlation .scatter()\n",
    "# Histogram: frequency .hist()\n",
    "# Barchart: histogram for categorical data .bar()\n",
    "# Boxplot: value ranges .boxplot()\n",
    "\n",
    "# corr = wines.corr()\n",
    "# sns.heatmap(corr, \n",
    "#             xticklabels=corr.columns.values,\n",
    "#             yticklabels=corr.columns.values)\n",
    "# sns.plt.show()"
   ]
  },
  {
   "cell_type": "markdown",
   "metadata": {},
   "source": [
    "# Imports and I/O"
   ]
  },
  {
   "cell_type": "code",
   "execution_count": 2,
   "metadata": {
    "ExecuteTime": {
     "end_time": "2019-05-28T10:04:13.532121Z",
     "start_time": "2019-05-28T10:04:07.630971Z"
    }
   },
   "outputs": [
    {
     "name": "stdout",
     "output_type": "stream",
     "text": [
      "All libraries set-up and ready to go!\n"
     ]
    }
   ],
   "source": [
    "# Imports\n",
    "import numpy as np\n",
    "import pandas as pd\n",
    "import matplotlib.pyplot as plt\n",
    "import seaborn as sns\n",
    "import tensorflow as tf\n",
    "import xgboost as xgb\n",
    "import category_encoders\n",
    "import json\n",
    "\n",
    "from sklearn import neighbors, feature_extraction, datasets, linear_model, metrics, model_selection, preprocessing, svm, ensemble, decomposition, feature_extraction\n",
    "\n",
    "# Configs\n",
    "%config InlineBackend.figure_format ='retina'\n",
    "%matplotlib inline\n",
    "\n",
    "# Cython\n",
    "%load_ext Cython\n",
    "#!python\n",
    "#cython: language_level=3\n",
    "\n",
    "print(\"All libraries set-up and ready to go!\")"
   ]
  },
  {
   "cell_type": "code",
   "execution_count": 4,
   "metadata": {
    "ExecuteTime": {
     "end_time": "2019-05-28T10:04:44.340502Z",
     "start_time": "2019-05-28T10:04:44.254611Z"
    }
   },
   "outputs": [],
   "source": [
    "df = pd.read_json('../tmp/1df.json')\n"
   ]
  },
  {
   "cell_type": "code",
   "execution_count": 62,
   "metadata": {
    "ExecuteTime": {
     "end_time": "2019-05-27T14:45:33.925604Z",
     "start_time": "2019-05-27T14:45:33.913012Z"
    }
   },
   "outputs": [
    {
     "data": {
      "text/plain": [
       "Index([u'op1', u'op2', u'op3', u'op4', u'op5'], dtype='object')"
      ]
     },
     "execution_count": 62,
     "metadata": {},
     "output_type": "execute_result"
    }
   ],
   "source": [
    "cl = df.columns[4:-3]\n",
    "cl"
   ]
  },
  {
   "cell_type": "code",
   "execution_count": 66,
   "metadata": {
    "ExecuteTime": {
     "end_time": "2019-05-27T14:45:56.627451Z",
     "start_time": "2019-05-27T14:45:56.611563Z"
    }
   },
   "outputs": [],
   "source": [
    "for c in cl:\n",
    "    df[c] = df[c].fillna(-1).astype(int)"
   ]
  },
  {
   "cell_type": "code",
   "execution_count": 67,
   "metadata": {
    "ExecuteTime": {
     "end_time": "2019-05-27T14:45:57.443499Z",
     "start_time": "2019-05-27T14:45:57.403718Z"
    }
   },
   "outputs": [
    {
     "data": {
      "text/html": [
       "<div>\n",
       "<style scoped>\n",
       "    .dataframe tbody tr th:only-of-type {\n",
       "        vertical-align: middle;\n",
       "    }\n",
       "\n",
       "    .dataframe tbody tr th {\n",
       "        vertical-align: top;\n",
       "    }\n",
       "\n",
       "    .dataframe thead th {\n",
       "        text-align: right;\n",
       "    }\n",
       "</style>\n",
       "<table border=\"1\" class=\"dataframe\">\n",
       "  <thead>\n",
       "    <tr style=\"text-align: right;\">\n",
       "      <th></th>\n",
       "      <th>_timestamp</th>\n",
       "      <th>char_bank</th>\n",
       "      <th>n_len</th>\n",
       "      <th>o_len</th>\n",
       "      <th>op1</th>\n",
       "      <th>op2</th>\n",
       "      <th>op3</th>\n",
       "      <th>op4</th>\n",
       "      <th>op5</th>\n",
       "      <th>op_no</th>\n",
       "      <th>z_opstring</th>\n",
       "      <th>z_string</th>\n",
       "    </tr>\n",
       "  </thead>\n",
       "  <tbody>\n",
       "    <tr>\n",
       "      <th>0</th>\n",
       "      <td>1523866895883</td>\n",
       "      <td></td>\n",
       "      <td>1</td>\n",
       "      <td>1</td>\n",
       "      <td>-1</td>\n",
       "      <td>-1</td>\n",
       "      <td>-1</td>\n",
       "      <td>-1</td>\n",
       "      <td>-1</td>\n",
       "      <td>0</td>\n",
       "      <td></td>\n",
       "      <td>Z:1&gt;0$</td>\n",
       "    </tr>\n",
       "    <tr>\n",
       "      <th>1</th>\n",
       "      <td>1523866895893</td>\n",
       "      <td></td>\n",
       "      <td>1</td>\n",
       "      <td>1</td>\n",
       "      <td>-1</td>\n",
       "      <td>-1</td>\n",
       "      <td>-1</td>\n",
       "      <td>-1</td>\n",
       "      <td>-1</td>\n",
       "      <td>0</td>\n",
       "      <td></td>\n",
       "      <td>Z:1&gt;0$</td>\n",
       "    </tr>\n",
       "    <tr>\n",
       "      <th>2</th>\n",
       "      <td>1524302714348</td>\n",
       "      <td>L</td>\n",
       "      <td>2</td>\n",
       "      <td>1</td>\n",
       "      <td>0</td>\n",
       "      <td>-1</td>\n",
       "      <td>-1</td>\n",
       "      <td>-1</td>\n",
       "      <td>-1</td>\n",
       "      <td>1</td>\n",
       "      <td>*0+1</td>\n",
       "      <td>Z:1&gt;1*0+1$L</td>\n",
       "    </tr>\n",
       "    <tr>\n",
       "      <th>3</th>\n",
       "      <td>1524302714848</td>\n",
       "      <td>ea</td>\n",
       "      <td>4</td>\n",
       "      <td>2</td>\n",
       "      <td>1</td>\n",
       "      <td>2</td>\n",
       "      <td>-1</td>\n",
       "      <td>-1</td>\n",
       "      <td>-1</td>\n",
       "      <td>2</td>\n",
       "      <td>=1*0+2</td>\n",
       "      <td>Z:2&gt;2=1*0+2$ea</td>\n",
       "    </tr>\n",
       "    <tr>\n",
       "      <th>4</th>\n",
       "      <td>1524302715347</td>\n",
       "      <td>rn</td>\n",
       "      <td>6</td>\n",
       "      <td>4</td>\n",
       "      <td>3</td>\n",
       "      <td>4</td>\n",
       "      <td>-1</td>\n",
       "      <td>-1</td>\n",
       "      <td>-1</td>\n",
       "      <td>2</td>\n",
       "      <td>=3*0+2</td>\n",
       "      <td>Z:4&gt;2=3*0+2$rn</td>\n",
       "    </tr>\n",
       "  </tbody>\n",
       "</table>\n",
       "</div>"
      ],
      "text/plain": [
       "      _timestamp char_bank  n_len  o_len  op1  op2  op3  op4  op5  op_no  \\\n",
       "0  1523866895883                1      1   -1   -1   -1   -1   -1      0   \n",
       "1  1523866895893                1      1   -1   -1   -1   -1   -1      0   \n",
       "2  1524302714348         L      2      1    0   -1   -1   -1   -1      1   \n",
       "3  1524302714848        ea      4      2    1    2   -1   -1   -1      2   \n",
       "4  1524302715347        rn      6      4    3    4   -1   -1   -1      2   \n",
       "\n",
       "  z_opstring        z_string  \n",
       "0                     Z:1>0$  \n",
       "1                     Z:1>0$  \n",
       "2       *0+1     Z:1>1*0+1$L  \n",
       "3     =1*0+2  Z:2>2=1*0+2$ea  \n",
       "4     =3*0+2  Z:4>2=3*0+2$rn  "
      ]
     },
     "execution_count": 67,
     "metadata": {},
     "output_type": "execute_result"
    }
   ],
   "source": [
    "df.head(5)"
   ]
  },
  {
   "cell_type": "code",
   "execution_count": 65,
   "metadata": {
    "ExecuteTime": {
     "end_time": "2019-05-27T14:45:34.693586Z",
     "start_time": "2019-05-27T14:45:34.667359Z"
    }
   },
   "outputs": [
    {
     "data": {
      "text/html": [
       "<div>\n",
       "<style scoped>\n",
       "    .dataframe tbody tr th:only-of-type {\n",
       "        vertical-align: middle;\n",
       "    }\n",
       "\n",
       "    .dataframe tbody tr th {\n",
       "        vertical-align: top;\n",
       "    }\n",
       "\n",
       "    .dataframe thead th {\n",
       "        text-align: right;\n",
       "    }\n",
       "</style>\n",
       "<table border=\"1\" class=\"dataframe\">\n",
       "  <thead>\n",
       "    <tr style=\"text-align: right;\">\n",
       "      <th></th>\n",
       "      <th>attribs</th>\n",
       "      <th>chars</th>\n",
       "      <th>lines</th>\n",
       "      <th>opcode</th>\n",
       "    </tr>\n",
       "  </thead>\n",
       "  <tbody>\n",
       "    <tr>\n",
       "      <th>0</th>\n",
       "      <td>*0</td>\n",
       "      <td>1</td>\n",
       "      <td>0</td>\n",
       "      <td>+</td>\n",
       "    </tr>\n",
       "    <tr>\n",
       "      <th>1</th>\n",
       "      <td>*0</td>\n",
       "      <td>2</td>\n",
       "      <td>0</td>\n",
       "      <td>+</td>\n",
       "    </tr>\n",
       "    <tr>\n",
       "      <th>2</th>\n",
       "      <td>*0</td>\n",
       "      <td>2</td>\n",
       "      <td>0</td>\n",
       "      <td>+</td>\n",
       "    </tr>\n",
       "    <tr>\n",
       "      <th>3</th>\n",
       "      <td>*0</td>\n",
       "      <td>2</td>\n",
       "      <td>0</td>\n",
       "      <td>+</td>\n",
       "    </tr>\n",
       "    <tr>\n",
       "      <th>4</th>\n",
       "      <td>*0</td>\n",
       "      <td>2</td>\n",
       "      <td>0</td>\n",
       "      <td>+</td>\n",
       "    </tr>\n",
       "  </tbody>\n",
       "</table>\n",
       "</div>"
      ],
      "text/plain": [
       "  attribs  chars  lines opcode\n",
       "0      *0      1      0      +\n",
       "1      *0      2      0      +\n",
       "2      *0      2      0      +\n",
       "3      *0      2      0      +\n",
       "4      *0      2      0      +"
      ]
     },
     "execution_count": 65,
     "metadata": {},
     "output_type": "execute_result"
    }
   ],
   "source": [
    "ops.head(5)"
   ]
  },
  {
   "cell_type": "code",
   "execution_count": null,
   "metadata": {},
   "outputs": [],
   "source": []
  },
  {
   "cell_type": "code",
   "execution_count": null,
   "metadata": {},
   "outputs": [],
   "source": []
  }
 ],
 "metadata": {
  "kernelspec": {
   "display_name": "Python 2",
   "language": "python",
   "name": "python2"
  },
  "language_info": {
   "codemirror_mode": {
    "name": "ipython",
    "version": 2
   },
   "file_extension": ".py",
   "mimetype": "text/x-python",
   "name": "python",
   "nbconvert_exporter": "python",
   "pygments_lexer": "ipython2",
   "version": "2.7.16"
  },
  "toc": {
   "base_numbering": 1,
   "nav_menu": {},
   "number_sections": true,
   "sideBar": true,
   "skip_h1_title": false,
   "title_cell": "Table of Contents",
   "title_sidebar": "Contents",
   "toc_cell": false,
   "toc_position": {
    "height": "calc(100% - 180px)",
    "left": "10px",
    "top": "150px",
    "width": "256px"
   },
   "toc_section_display": true,
   "toc_window_display": false
  },
  "varInspector": {
   "cols": {
    "lenName": 16,
    "lenType": 16,
    "lenVar": 40
   },
   "kernels_config": {
    "python": {
     "delete_cmd_postfix": "",
     "delete_cmd_prefix": "del ",
     "library": "var_list.py",
     "varRefreshCmd": "print(var_dic_list())"
    },
    "r": {
     "delete_cmd_postfix": ") ",
     "delete_cmd_prefix": "rm(",
     "library": "var_list.r",
     "varRefreshCmd": "cat(var_dic_list()) "
    }
   },
   "types_to_exclude": [
    "module",
    "function",
    "builtin_function_or_method",
    "instance",
    "_Feature"
   ],
   "window_display": false
  }
 },
 "nbformat": 4,
 "nbformat_minor": 2
}
