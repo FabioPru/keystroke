{
 "cells": [
  {
   "cell_type": "markdown",
   "metadata": {},
   "source": [
    "# Imports and I/O"
   ]
  },
  {
   "cell_type": "code",
   "execution_count": 2,
   "metadata": {
    "ExecuteTime": {
     "end_time": "2019-06-12T13:04:57.337004Z",
     "start_time": "2019-06-12T13:04:55.916559Z"
    }
   },
   "outputs": [
    {
     "name": "stdout",
     "output_type": "stream",
     "text": [
      "All libraries set-up and ready to go!\n"
     ]
    }
   ],
   "source": [
    "# Imports\n",
    "import sys\n",
    "import numpy as np\n",
    "import pandas as pd\n",
    "import json\n",
    "\n",
    "# Configs\n",
    "%config InlineBackend.figure_format ='retina'\n",
    "%matplotlib inline\n",
    "\n",
    "# Cython\n",
    "%load_ext Cython\n",
    "#!python\n",
    "#cython: language_level=3\n",
    "\n",
    "print(\"All libraries set-up and ready to go!\")"
   ]
  },
  {
   "cell_type": "code",
   "execution_count": 3,
   "metadata": {
    "ExecuteTime": {
     "end_time": "2019-06-12T13:05:18.211085Z",
     "start_time": "2019-06-12T13:04:57.375610Z"
    }
   },
   "outputs": [],
   "source": [
    "suffix = ''\n",
    "k = pd.read_csv('../../pads/keystrokes' + suffix + '.csv', index_col=False)\n",
    "w = pd.read_csv('../../pads/words' + suffix + '.csv', index_col=False)\n",
    "s = pd.read_csv('../../pads/sentences' + suffix + '.csv', index_col=False)\n",
    "f = pd.read_csv('../../pads/files' + suffix + '.csv', index_col=False)\n",
    "u = pd.read_csv('../../pads/users' + suffix + '.csv', index_col=False)\n"
   ]
  },
  {
   "cell_type": "markdown",
   "metadata": {},
   "source": [
    "# Iterator helper for computation"
   ]
  },
  {
   "cell_type": "code",
   "execution_count": null,
   "metadata": {},
   "outputs": [],
   "source": [
    "# Runs in approx. 50s\n",
    "k_sorted = k.sort_values(by='s_id')\n",
    "rs = 0; re = 0; ranges = {}\n",
    "for idx, val in k_sorted['s_id'].value_counts().sort_index().iteritems():\n",
    "    re += val\n",
    "    ranges[idx] = (rs, re)\n",
    "    rs += val\n",
    "    \n",
    "for s_id, row in s.iterrows():\n",
    "    if ranges.get(s_id) != None:\n",
    "        u, v = ranges.get(s_id)\n",
    "        k_sentence = k_sorted.iloc[u:v, :]\n",
    "    else:\n",
    "        k_sentence = k_sorted.iloc[0:0, :]\n",
    "    \n",
    "    ###### YOUR CODE HERE #####\n",
    "    ## Will run ranging over sentence with s_id, row, k_sentence ##\n",
    "    ## Example: s.at[s_id, 'ks_len'] = len(k_sentence) / len(row['text'])\n",
    "    \n",
    "    "
   ]
  },
  {
   "cell_type": "markdown",
   "metadata": {},
   "source": [
    "# Graphs"
   ]
  },
  {
   "cell_type": "code",
   "execution_count": 13,
   "metadata": {
    "ExecuteTime": {
     "end_time": "2019-06-06T07:15:57.633131Z",
     "start_time": "2019-06-06T07:15:56.326495Z"
    }
   },
   "outputs": [
    {
     "data": {
      "text/plain": [
       "<matplotlib.axes._subplots.AxesSubplot at 0x118561c10>"
      ]
     },
     "execution_count": 13,
     "metadata": {},
     "output_type": "execute_result"
    },
    {
     "data": {
      "image/png": "[encoded data removed]",
      "text/plain": [
       "<Figure size 432x288 with 1 Axes>"
      ]
     },
     "metadata": {
      "image/png": {
       "height": 250,
       "width": 390
      },
      "needs_background": "light"
     },
     "output_type": "display_data"
    }
   ],
   "source": [
    " k[(k['t'] >= 600) & (k['t'] < 4000) & (k['op'] == '+')]['t'].hist(bins=100)"
   ]
  },
  {
   "cell_type": "markdown",
   "metadata": {},
   "source": [
    "# Writing to file"
   ]
  },
  {
   "cell_type": "code",
   "execution_count": 94,
   "metadata": {
    "ExecuteTime": {
     "end_time": "2019-06-05T12:40:33.083444Z",
     "start_time": "2019-06-05T12:40:32.353459Z"
    }
   },
   "outputs": [],
   "source": [
    "k.to_csv('../../pads/keystrokes.csv', index=False)\n",
    "w.to_csv('../../pads/words.csv', index=False)\n",
    "s.to_csv('../../pads/sentences.csv', index=False)\n",
    "f.to_csv('../../pads/files.csv', index=False)\n",
    "u.to_csv('../../pads/users.csv', index=False)"
   ]
  }
 ],
 "metadata": {
  "kernelspec": {
   "display_name": "Python 2",
   "language": "python",
   "name": "python2"
  },
  "language_info": {
   "codemirror_mode": {
    "name": "ipython",
    "version": 2
   },
   "file_extension": ".py",
   "mimetype": "text/x-python",
   "name": "python",
   "nbconvert_exporter": "python",
   "pygments_lexer": "ipython2",
   "version": "2.7.16"
  },
  "toc": {
   "base_numbering": 1,
   "nav_menu": {},
   "number_sections": true,
   "sideBar": true,
   "skip_h1_title": false,
   "title_cell": "Table of Contents",
   "title_sidebar": "Contents",
   "toc_cell": false,
   "toc_position": {
    "height": "calc(100% - 180px)",
    "left": "10px",
    "top": "150px",
    "width": "256px"
   },
   "toc_section_display": true,
   "toc_window_display": false
  },
  "varInspector": {
   "cols": {
    "lenName": 16,
    "lenType": 16,
    "lenVar": 40
   },
   "kernels_config": {
    "python": {
     "delete_cmd_postfix": "",
     "delete_cmd_prefix": "del ",
     "library": "var_list.py",
     "varRefreshCmd": "print(var_dic_list())"
    },
    "r": {
     "delete_cmd_postfix": ") ",
     "delete_cmd_prefix": "rm(",
     "library": "var_list.r",
     "varRefreshCmd": "cat(var_dic_list()) "
    }
   },
   "types_to_exclude": [
    "module",
    "function",
    "builtin_function_or_method",
    "instance",
    "_Feature"
   ],
   "window_display": false
  }
 },
 "nbformat": 4,
 "nbformat_minor": 2
}
